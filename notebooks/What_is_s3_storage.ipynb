{
 "cells": [
  {
   "cell_type": "markdown",
   "metadata": {},
   "source": [
    "# What is s3 object storage?\n",
    "\n",
    "## Definition 1\n",
    "An ordered collection of bytes.\n",
    "\n",
    "<img src=\"images/array.png\">\n",
    "\n",
    "Generally, this collection of bytes has a structure of some sort that allows you to interpret the data in a useful way. E.g. - ASCII, jpg, NetCDF, geoTIFF, etc.\n",
    "\n",
    "## Definition 2\n",
    "An API for network storage.\n",
    "\n",
    "<img src=\"images/cloud_storage.png\" width=500>"
   ]
  },
  {
   "cell_type": "markdown",
   "metadata": {},
   "source": [
    "# Fake AWS: localstack\n",
    "\n",
    "This tutorial uses [localstack](https://github.com/localstack/localstack) to emulate AWS. For this tutorial, we'll be focusing on [Amazon S3](https://aws.amazon.com/s3/) object storage.\n",
    "\n",
    "## Setup: Create the bucket. Do this only once!\n",
    "\n",
    "You only need to create the s3 bucket once after bringing up localstack. If you try to create the bucket again, you will get an error."
   ]
  },
  {
   "cell_type": "code",
   "execution_count": 1,
   "metadata": {},
   "outputs": [
    {
     "data": {
      "text/plain": [
       "{'ResponseMetadata': {'RequestId': '66E257A1DEC6EF22',\n",
       "  'HostId': 'MzRISOwyjmnup66E257A1DEC6EF227/JypPGXLh0OVFGcJaaO3KW/hRAqKOpIEEp',\n",
       "  'HTTPStatusCode': 200,\n",
       "  'HTTPHeaders': {'content-type': 'application/xml; charset=utf-8',\n",
       "   'content-length': '165',\n",
       "   'access-control-allow-origin': '*',\n",
       "   'last-modified': 'Wed, 06 Jan 2021 15:54:22 GMT',\n",
       "   'x-amz-request-id': '66E257A1DEC6EF22',\n",
       "   'x-amz-id-2': 'MzRISOwyjmnup66E257A1DEC6EF227/JypPGXLh0OVFGcJaaO3KW/hRAqKOpIEEp',\n",
       "   'access-control-allow-methods': 'HEAD,GET,PUT,POST,DELETE,OPTIONS,PATCH',\n",
       "   'access-control-allow-headers': 'authorization,content-type,content-md5,cache-control,x-amz-content-sha256,x-amz-date,x-amz-security-token,x-amz-user-agent,x-amz-target,x-amz-acl,x-amz-version-id,x-localstack-target,x-amz-tagging',\n",
       "   'access-control-expose-headers': 'x-amz-version-id',\n",
       "   'connection': 'close',\n",
       "   'date': 'Wed, 06 Jan 2021 15:54:22 GMT',\n",
       "   'server': 'hypercorn-h11'},\n",
       "  'RetryAttempts': 0}}"
      ]
     },
     "execution_count": 1,
     "metadata": {},
     "output_type": "execute_result"
    }
   ],
   "source": [
    "import boto3\n",
    "s3_client = boto3.client('s3',endpoint_url=\"http://localstack:4566\")\n",
    "bucket_name = \"demo-bucket\"\n",
    "s3_client.create_bucket(Bucket=bucket_name)"
   ]
  },
  {
   "cell_type": "markdown",
   "metadata": {},
   "source": [
    "# An ASCII-encoded object\n",
    "\n",
    "## Create an object with the characters \"GES DISC\" inside\n",
    "\n",
    "Reminder, the encoding will be:\n",
    "\n",
    "<img src=\"images/GES_DISC_array.svg\">\n",
    "\n",
    "We'll use the key **\"GES DISC.txt\"**.\n"
   ]
  },
  {
   "cell_type": "code",
   "execution_count": 2,
   "metadata": {},
   "outputs": [
    {
     "data": {
      "text/plain": [
       "{'ResponseMetadata': {'RequestId': '77E0A7AF01FE1C73',\n",
       "  'HostId': 'MzRISOwyjmnup77E0A7AF01FE1C737/JypPGXLh0OVFGcJaaO3KW/hRAqKOpIEEp',\n",
       "  'HTTPStatusCode': 200,\n",
       "  'HTTPHeaders': {'content-type': 'text/html; charset=utf-8',\n",
       "   'content-length': '0',\n",
       "   'etag': '\"f262183818ac528524d199fcdca26ccc\"',\n",
       "   'last-modified': 'Wed, 06 Jan 2021 15:54:22 GMT',\n",
       "   'access-control-allow-origin': '*',\n",
       "   'x-amz-request-id': '77E0A7AF01FE1C73',\n",
       "   'x-amz-id-2': 'MzRISOwyjmnup77E0A7AF01FE1C737/JypPGXLh0OVFGcJaaO3KW/hRAqKOpIEEp',\n",
       "   'access-control-allow-methods': 'HEAD,GET,PUT,POST,DELETE,OPTIONS,PATCH',\n",
       "   'access-control-allow-headers': 'authorization,content-type,content-md5,cache-control,x-amz-content-sha256,x-amz-date,x-amz-security-token,x-amz-user-agent,x-amz-target,x-amz-acl,x-amz-version-id,x-localstack-target,x-amz-tagging',\n",
       "   'access-control-expose-headers': 'x-amz-version-id',\n",
       "   'connection': 'close',\n",
       "   'date': 'Wed, 06 Jan 2021 15:54:22 GMT',\n",
       "   'server': 'hypercorn-h11'},\n",
       "  'RetryAttempts': 0},\n",
       " 'ETag': '\"f262183818ac528524d199fcdca26ccc\"'}"
      ]
     },
     "execution_count": 2,
     "metadata": {},
     "output_type": "execute_result"
    }
   ],
   "source": [
    "def str_to_binary(str_):\n",
    "    \"\"\"Convert a string to a binary string using the 'ord' function\"\"\"\n",
    "    bin_arr = bytearray()\n",
    "    bin_arr.extend(map(ord,str_))\n",
    "    return bin_arr\n",
    "\n",
    "bin_str = str_to_binary(\"GES DISC\")\n",
    "\n",
    "object_key = \"GES DISC.txt\"\n",
    "\n",
    "s3_client.put_object(\n",
    "    Body=bin_str, \n",
    "    Bucket=bucket_name,\n",
    "    Key=object_key,\n",
    "    ContentType=\"text/plain\"\n",
    ")"
   ]
  },
  {
   "cell_type": "markdown",
   "metadata": {},
   "source": [
    "## List the contents of the bucket to see our new object"
   ]
  },
  {
   "cell_type": "code",
   "execution_count": 3,
   "metadata": {},
   "outputs": [
    {
     "data": {
      "text/plain": [
       "[{'Key': 'GES DISC.txt',\n",
       "  'LastModified': datetime.datetime(2021, 1, 6, 15, 54, 22, 834000, tzinfo=tzlocal()),\n",
       "  'ETag': '\"f262183818ac528524d199fcdca26ccc\"',\n",
       "  'Size': 8,\n",
       "  'StorageClass': 'STANDARD',\n",
       "  'Owner': {'DisplayName': 'webfile',\n",
       "   'ID': '75aa57f09aa0c8caeab4f8c24e99d10f8e7faeebf76c078efc7c6caea54ba06a'}}]"
      ]
     },
     "execution_count": 3,
     "metadata": {},
     "output_type": "execute_result"
    }
   ],
   "source": [
    "out = s3_client.list_objects(Bucket=bucket_name)\n",
    "out[\"Contents\"]"
   ]
  },
  {
   "cell_type": "markdown",
   "metadata": {},
   "source": [
    "## Example 1: read the entire object into memory as binary"
   ]
  },
  {
   "cell_type": "code",
   "execution_count": 4,
   "metadata": {},
   "outputs": [
    {
     "data": {
      "text/plain": [
       "{'ResponseMetadata': {'RequestId': 'D93C2A8E5C368260',\n",
       "  'HostId': 'MzRISOwyjmnupD93C2A8E5C3682607/JypPGXLh0OVFGcJaaO3KW/hRAqKOpIEEp',\n",
       "  'HTTPStatusCode': 200,\n",
       "  'HTTPHeaders': {'content-type': 'text/plain',\n",
       "   'content-length': '8',\n",
       "   'content-md5': '8mIYOBisUoUk0Zn83KJszA==',\n",
       "   'etag': '\"f262183818ac528524d199fcdca26ccc\"',\n",
       "   'last-modified': 'Wed, 06 Jan 2021 15:54:22 GMT',\n",
       "   'access-control-allow-origin': '*',\n",
       "   'x-amz-request-id': 'D93C2A8E5C368260',\n",
       "   'x-amz-id-2': 'MzRISOwyjmnupD93C2A8E5C3682607/JypPGXLh0OVFGcJaaO3KW/hRAqKOpIEEp',\n",
       "   'accept-ranges': 'bytes',\n",
       "   'content-language': 'en-US',\n",
       "   'cache-control': 'no-cache',\n",
       "   'content-encoding': 'identity',\n",
       "   'access-control-allow-methods': 'HEAD,GET,PUT,POST,DELETE,OPTIONS,PATCH',\n",
       "   'access-control-allow-headers': 'authorization,content-type,content-md5,cache-control,x-amz-content-sha256,x-amz-date,x-amz-security-token,x-amz-user-agent,x-amz-target,x-amz-acl,x-amz-version-id,x-localstack-target,x-amz-tagging',\n",
       "   'access-control-expose-headers': 'x-amz-version-id',\n",
       "   'connection': 'close',\n",
       "   'date': 'Wed, 06 Jan 2021 15:54:22 GMT',\n",
       "   'server': 'hypercorn-h11'},\n",
       "  'RetryAttempts': 0},\n",
       " 'AcceptRanges': 'bytes',\n",
       " 'LastModified': datetime.datetime(2021, 1, 6, 15, 54, 22, tzinfo=tzutc()),\n",
       " 'ContentLength': 8,\n",
       " 'ETag': '\"f262183818ac528524d199fcdca26ccc\"',\n",
       " 'CacheControl': 'no-cache',\n",
       " 'ContentEncoding': 'identity',\n",
       " 'ContentLanguage': 'en-US',\n",
       " 'ContentType': 'text/plain',\n",
       " 'Metadata': {},\n",
       " 'Body': <botocore.response.StreamingBody at 0x7fcb3a63d1c0>}"
      ]
     },
     "execution_count": 4,
     "metadata": {},
     "output_type": "execute_result"
    }
   ],
   "source": [
    "resp = s3_client.get_object(Bucket=bucket_name,Key=object_key)\n",
    "resp"
   ]
  },
  {
   "cell_type": "code",
   "execution_count": 5,
   "metadata": {},
   "outputs": [
    {
     "data": {
      "text/plain": [
       "[b'GES DISC']"
      ]
     },
     "execution_count": 5,
     "metadata": {},
     "output_type": "execute_result"
    }
   ],
   "source": [
    "list(resp[\"Body\"])"
   ]
  },
  {
   "cell_type": "markdown",
   "metadata": {},
   "source": [
    "## Example 2: read just bytes 2-4 out"
   ]
  },
  {
   "cell_type": "code",
   "execution_count": 6,
   "metadata": {},
   "outputs": [
    {
     "data": {
      "text/plain": [
       "[b'S D']"
      ]
     },
     "execution_count": 6,
     "metadata": {},
     "output_type": "execute_result"
    }
   ],
   "source": [
    "resp = s3_client.get_object(Bucket=bucket_name,Key=object_key,Range='bytes=2-4')\n",
    "list(resp[\"Body\"])"
   ]
  },
  {
   "cell_type": "markdown",
   "metadata": {},
   "source": [
    "## Example 3: update the entire object to be lower case "
   ]
  },
  {
   "cell_type": "code",
   "execution_count": 7,
   "metadata": {},
   "outputs": [
    {
     "data": {
      "text/plain": [
       "{'ResponseMetadata': {'RequestId': '3A05160A94B14F6B',\n",
       "  'HostId': 'MzRISOwyjmnup3A05160A94B14F6B7/JypPGXLh0OVFGcJaaO3KW/hRAqKOpIEEp',\n",
       "  'HTTPStatusCode': 200,\n",
       "  'HTTPHeaders': {'content-type': 'text/html; charset=utf-8',\n",
       "   'content-length': '0',\n",
       "   'etag': '\"e9848c445d1398547c0161189d849ba0\"',\n",
       "   'last-modified': 'Wed, 06 Jan 2021 15:54:22 GMT',\n",
       "   'access-control-allow-origin': '*',\n",
       "   'x-amz-request-id': '3A05160A94B14F6B',\n",
       "   'x-amz-id-2': 'MzRISOwyjmnup3A05160A94B14F6B7/JypPGXLh0OVFGcJaaO3KW/hRAqKOpIEEp',\n",
       "   'access-control-allow-methods': 'HEAD,GET,PUT,POST,DELETE,OPTIONS,PATCH',\n",
       "   'access-control-allow-headers': 'authorization,content-type,content-md5,cache-control,x-amz-content-sha256,x-amz-date,x-amz-security-token,x-amz-user-agent,x-amz-target,x-amz-acl,x-amz-version-id,x-localstack-target,x-amz-tagging',\n",
       "   'access-control-expose-headers': 'x-amz-version-id',\n",
       "   'connection': 'close',\n",
       "   'date': 'Wed, 06 Jan 2021 15:54:22 GMT',\n",
       "   'server': 'hypercorn-h11'},\n",
       "  'RetryAttempts': 0},\n",
       " 'ETag': '\"e9848c445d1398547c0161189d849ba0\"'}"
      ]
     },
     "execution_count": 7,
     "metadata": {},
     "output_type": "execute_result"
    }
   ],
   "source": [
    "s3_client.put_object(\n",
    "    Body=str_to_binary(\"ges disc\"), \n",
    "    Bucket=bucket_name,\n",
    "    Key=object_key,\n",
    "    ContentType=\"text/plain\"\n",
    ")"
   ]
  },
  {
   "cell_type": "markdown",
   "metadata": {},
   "source": [
    "## Example 4: update part of the object\n",
    "\n",
    "<br />\n",
    "<br />\n",
    "<font size=15> ??????? </font>\n",
    "<br />\n",
    "<br />"
   ]
  },
  {
   "cell_type": "markdown",
   "metadata": {},
   "source": [
    "This is a trick example. It's not possible. You cannot update part of an s3 object. You can only update the whole thing: https://docs.aws.amazon.com/AmazonS3/latest/API/API_PutObject.html."
   ]
  }
 ],
 "metadata": {
  "kernelspec": {
   "display_name": "Python 3",
   "language": "python",
   "name": "python3"
  },
  "language_info": {
   "codemirror_mode": {
    "name": "ipython",
    "version": 3
   },
   "file_extension": ".py",
   "mimetype": "text/x-python",
   "name": "python",
   "nbconvert_exporter": "python",
   "pygments_lexer": "ipython3",
   "version": "3.8.6"
  }
 },
 "nbformat": 4,
 "nbformat_minor": 4
}
