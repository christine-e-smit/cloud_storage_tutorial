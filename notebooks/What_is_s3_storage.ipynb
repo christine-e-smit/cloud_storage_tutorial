{
 "cells": [
  {
   "cell_type": "markdown",
   "metadata": {},
   "source": [
    "1. Create the bucket. Do this only once!"
   ]
  },
  {
   "cell_type": "code",
   "execution_count": 1,
   "metadata": {},
   "outputs": [
    {
     "data": {
      "text/plain": [
       "{'ResponseMetadata': {'RequestId': 'FCF0C77DCCB02D4B',\n",
       "  'HostId': 'MzRISOwyjmnupFCF0C77DCCB02D4B7/JypPGXLh0OVFGcJaaO3KW/hRAqKOpIEEp',\n",
       "  'HTTPStatusCode': 200,\n",
       "  'HTTPHeaders': {'content-type': 'application/xml; charset=utf-8',\n",
       "   'content-length': '165',\n",
       "   'access-control-allow-origin': '*',\n",
       "   'last-modified': 'Wed, 09 Dec 2020 22:01:34 GMT',\n",
       "   'x-amz-request-id': 'FCF0C77DCCB02D4B',\n",
       "   'x-amz-id-2': 'MzRISOwyjmnupFCF0C77DCCB02D4B7/JypPGXLh0OVFGcJaaO3KW/hRAqKOpIEEp',\n",
       "   'access-control-allow-methods': 'HEAD,GET,PUT,POST,DELETE,OPTIONS,PATCH',\n",
       "   'access-control-allow-headers': 'authorization,content-type,content-md5,cache-control,x-amz-content-sha256,x-amz-date,x-amz-security-token,x-amz-user-agent,x-amz-target,x-amz-acl,x-amz-version-id,x-localstack-target,x-amz-tagging',\n",
       "   'access-control-expose-headers': 'x-amz-version-id',\n",
       "   'connection': 'close',\n",
       "   'date': 'Wed, 09 Dec 2020 22:01:34 GMT',\n",
       "   'server': 'hypercorn-h11'},\n",
       "  'RetryAttempts': 0}}"
      ]
     },
     "execution_count": 1,
     "metadata": {},
     "output_type": "execute_result"
    }
   ],
   "source": [
    "import boto3\n",
    "s3_client = boto3.client('s3',endpoint_url=\"http://localstack:4566\")\n",
    "bucket_name = \"demo-bucket\"\n",
    "s3_client.create_bucket(Bucket=bucket_name)"
   ]
  },
  {
   "cell_type": "markdown",
   "metadata": {},
   "source": [
    "# An ASCII-encoded object\n",
    "\n",
    "## Create an object with the characters \"GES DISC\" inside\n",
    "\n",
    "Reminder, the encoding will be:\n",
    "\n",
    "<img src=\"GES_DISC_array.svg\">\n",
    "\n",
    "We'll use the key **\"GES DISC.txt\"**.\n"
   ]
  },
  {
   "cell_type": "code",
   "execution_count": 3,
   "metadata": {},
   "outputs": [
    {
     "data": {
      "text/plain": [
       "{'ResponseMetadata': {'RequestId': '8880C653E08DC0D5',\n",
       "  'HostId': 'MzRISOwyjmnup8880C653E08DC0D57/JypPGXLh0OVFGcJaaO3KW/hRAqKOpIEEp',\n",
       "  'HTTPStatusCode': 200,\n",
       "  'HTTPHeaders': {'content-type': 'text/html; charset=utf-8',\n",
       "   'content-length': '0',\n",
       "   'etag': '\"f262183818ac528524d199fcdca26ccc\"',\n",
       "   'last-modified': 'Wed, 09 Dec 2020 22:01:40 GMT',\n",
       "   'access-control-allow-origin': '*',\n",
       "   'x-amz-request-id': '8880C653E08DC0D5',\n",
       "   'x-amz-id-2': 'MzRISOwyjmnup8880C653E08DC0D57/JypPGXLh0OVFGcJaaO3KW/hRAqKOpIEEp',\n",
       "   'access-control-allow-methods': 'HEAD,GET,PUT,POST,DELETE,OPTIONS,PATCH',\n",
       "   'access-control-allow-headers': 'authorization,content-type,content-md5,cache-control,x-amz-content-sha256,x-amz-date,x-amz-security-token,x-amz-user-agent,x-amz-target,x-amz-acl,x-amz-version-id,x-localstack-target,x-amz-tagging',\n",
       "   'access-control-expose-headers': 'x-amz-version-id',\n",
       "   'connection': 'close',\n",
       "   'date': 'Wed, 09 Dec 2020 22:01:40 GMT',\n",
       "   'server': 'hypercorn-h11'},\n",
       "  'RetryAttempts': 0},\n",
       " 'ETag': '\"f262183818ac528524d199fcdca26ccc\"'}"
      ]
     },
     "execution_count": 3,
     "metadata": {},
     "output_type": "execute_result"
    }
   ],
   "source": [
    "def str_to_binary(str_):\n",
    "    \"\"\"Convert a string to a binary string using the 'ord' function\"\"\"\n",
    "    bin_arr = bytearray()\n",
    "    bin_arr.extend(map(ord,str_))\n",
    "    return bin_arr\n",
    "\n",
    "bin_str = str_to_binary(\"GES DISC\")\n",
    "\n",
    "object_key = \"GES DISC.txt\"\n",
    "\n",
    "s3_client.put_object(\n",
    "    Body=bin_str, \n",
    "    Bucket=bucket_name,\n",
    "    Key=object_key,\n",
    "    ContentType=\"text/plain\"\n",
    ")"
   ]
  },
  {
   "cell_type": "markdown",
   "metadata": {},
   "source": [
    "## List the contents of the bucket to see our new object"
   ]
  },
  {
   "cell_type": "code",
   "execution_count": 4,
   "metadata": {},
   "outputs": [
    {
     "data": {
      "text/plain": [
       "[{'Key': 'GES DISC.txt',\n",
       "  'LastModified': datetime.datetime(2020, 12, 9, 22, 1, 40, tzinfo=tzlocal()),\n",
       "  'ETag': '\"f262183818ac528524d199fcdca26ccc\"',\n",
       "  'Size': 8,\n",
       "  'StorageClass': 'STANDARD',\n",
       "  'Owner': {'DisplayName': 'webfile',\n",
       "   'ID': '75aa57f09aa0c8caeab4f8c24e99d10f8e7faeebf76c078efc7c6caea54ba06a'}}]"
      ]
     },
     "execution_count": 4,
     "metadata": {},
     "output_type": "execute_result"
    }
   ],
   "source": [
    "out = s3_client.list_objects(Bucket=bucket_name)\n",
    "out[\"Contents\"]"
   ]
  },
  {
   "cell_type": "markdown",
   "metadata": {},
   "source": [
    "## Example 1: read the entire object into memory as binary"
   ]
  },
  {
   "cell_type": "code",
   "execution_count": 5,
   "metadata": {},
   "outputs": [
    {
     "data": {
      "text/plain": [
       "{'ResponseMetadata': {'RequestId': 'B38FFB89DDB85988',\n",
       "  'HostId': 'MzRISOwyjmnupB38FFB89DDB859887/JypPGXLh0OVFGcJaaO3KW/hRAqKOpIEEp',\n",
       "  'HTTPStatusCode': 200,\n",
       "  'HTTPHeaders': {'content-type': 'text/plain',\n",
       "   'content-length': '8',\n",
       "   'content-md5': '8mIYOBisUoUk0Zn83KJszA==',\n",
       "   'etag': '\"f262183818ac528524d199fcdca26ccc\"',\n",
       "   'last-modified': 'Wed, 09 Dec 2020 22:01:40 GMT',\n",
       "   'access-control-allow-origin': '*',\n",
       "   'x-amz-request-id': 'B38FFB89DDB85988',\n",
       "   'x-amz-id-2': 'MzRISOwyjmnupB38FFB89DDB859887/JypPGXLh0OVFGcJaaO3KW/hRAqKOpIEEp',\n",
       "   'accept-ranges': 'bytes',\n",
       "   'content-language': 'en-US',\n",
       "   'cache-control': 'no-cache',\n",
       "   'content-encoding': 'identity',\n",
       "   'access-control-allow-methods': 'HEAD,GET,PUT,POST,DELETE,OPTIONS,PATCH',\n",
       "   'access-control-allow-headers': 'authorization,content-type,content-md5,cache-control,x-amz-content-sha256,x-amz-date,x-amz-security-token,x-amz-user-agent,x-amz-target,x-amz-acl,x-amz-version-id,x-localstack-target,x-amz-tagging',\n",
       "   'access-control-expose-headers': 'x-amz-version-id',\n",
       "   'connection': 'close',\n",
       "   'date': 'Wed, 09 Dec 2020 22:01:45 GMT',\n",
       "   'server': 'hypercorn-h11'},\n",
       "  'RetryAttempts': 0},\n",
       " 'AcceptRanges': 'bytes',\n",
       " 'LastModified': datetime.datetime(2020, 12, 9, 22, 1, 40, tzinfo=tzutc()),\n",
       " 'ContentLength': 8,\n",
       " 'ETag': '\"f262183818ac528524d199fcdca26ccc\"',\n",
       " 'CacheControl': 'no-cache',\n",
       " 'ContentEncoding': 'identity',\n",
       " 'ContentLanguage': 'en-US',\n",
       " 'ContentType': 'text/plain',\n",
       " 'Metadata': {},\n",
       " 'Body': <botocore.response.StreamingBody at 0x7f347d1d3c70>}"
      ]
     },
     "execution_count": 5,
     "metadata": {},
     "output_type": "execute_result"
    }
   ],
   "source": [
    "resp = s3_client.get_object(Bucket=bucket_name,Key=object_key)\n",
    "resp"
   ]
  },
  {
   "cell_type": "code",
   "execution_count": 6,
   "metadata": {},
   "outputs": [
    {
     "data": {
      "text/plain": [
       "[b'GES DISC']"
      ]
     },
     "execution_count": 6,
     "metadata": {},
     "output_type": "execute_result"
    }
   ],
   "source": [
    "list(resp[\"Body\"])"
   ]
  },
  {
   "cell_type": "markdown",
   "metadata": {},
   "source": [
    "## Example 2: read just bytes 2-4 out"
   ]
  },
  {
   "cell_type": "code",
   "execution_count": 7,
   "metadata": {},
   "outputs": [
    {
     "ename": "ClientError",
     "evalue": "An error occurred (500) when calling the GetObject operation (reached max retries: 4): Internal Server Error",
     "output_type": "error",
     "traceback": [
      "\u001b[0;31m---------------------------------------------------------------------------\u001b[0m",
      "\u001b[0;31mClientError\u001b[0m                               Traceback (most recent call last)",
      "\u001b[0;32m<ipython-input-7-d07d3b85709c>\u001b[0m in \u001b[0;36m<module>\u001b[0;34m\u001b[0m\n\u001b[0;32m----> 1\u001b[0;31m \u001b[0mresp\u001b[0m \u001b[0;34m=\u001b[0m \u001b[0ms3_client\u001b[0m\u001b[0;34m.\u001b[0m\u001b[0mget_object\u001b[0m\u001b[0;34m(\u001b[0m\u001b[0mBucket\u001b[0m\u001b[0;34m=\u001b[0m\u001b[0mbucket_name\u001b[0m\u001b[0;34m,\u001b[0m\u001b[0mKey\u001b[0m\u001b[0;34m=\u001b[0m\u001b[0mobject_key\u001b[0m\u001b[0;34m,\u001b[0m\u001b[0mRange\u001b[0m\u001b[0;34m=\u001b[0m\u001b[0;34m'bytes=2-4'\u001b[0m\u001b[0;34m)\u001b[0m\u001b[0;34m\u001b[0m\u001b[0;34m\u001b[0m\u001b[0m\n\u001b[0m\u001b[1;32m      2\u001b[0m \u001b[0mlist\u001b[0m\u001b[0;34m(\u001b[0m\u001b[0mresp\u001b[0m\u001b[0;34m[\u001b[0m\u001b[0;34m\"Body\"\u001b[0m\u001b[0;34m]\u001b[0m\u001b[0;34m)\u001b[0m\u001b[0;34m\u001b[0m\u001b[0;34m\u001b[0m\u001b[0m\n",
      "\u001b[0;32m/opt/conda/lib/python3.8/site-packages/botocore/client.py\u001b[0m in \u001b[0;36m_api_call\u001b[0;34m(self, *args, **kwargs)\u001b[0m\n\u001b[1;32m    355\u001b[0m                     \"%s() only accepts keyword arguments.\" % py_operation_name)\n\u001b[1;32m    356\u001b[0m             \u001b[0;31m# The \"self\" in this scope is referring to the BaseClient.\u001b[0m\u001b[0;34m\u001b[0m\u001b[0;34m\u001b[0m\u001b[0;34m\u001b[0m\u001b[0m\n\u001b[0;32m--> 357\u001b[0;31m             \u001b[0;32mreturn\u001b[0m \u001b[0mself\u001b[0m\u001b[0;34m.\u001b[0m\u001b[0m_make_api_call\u001b[0m\u001b[0;34m(\u001b[0m\u001b[0moperation_name\u001b[0m\u001b[0;34m,\u001b[0m \u001b[0mkwargs\u001b[0m\u001b[0;34m)\u001b[0m\u001b[0;34m\u001b[0m\u001b[0;34m\u001b[0m\u001b[0m\n\u001b[0m\u001b[1;32m    358\u001b[0m \u001b[0;34m\u001b[0m\u001b[0m\n\u001b[1;32m    359\u001b[0m         \u001b[0m_api_call\u001b[0m\u001b[0;34m.\u001b[0m\u001b[0m__name__\u001b[0m \u001b[0;34m=\u001b[0m \u001b[0mstr\u001b[0m\u001b[0;34m(\u001b[0m\u001b[0mpy_operation_name\u001b[0m\u001b[0;34m)\u001b[0m\u001b[0;34m\u001b[0m\u001b[0;34m\u001b[0m\u001b[0m\n",
      "\u001b[0;32m/opt/conda/lib/python3.8/site-packages/botocore/client.py\u001b[0m in \u001b[0;36m_make_api_call\u001b[0;34m(self, operation_name, api_params)\u001b[0m\n\u001b[1;32m    674\u001b[0m             \u001b[0merror_code\u001b[0m \u001b[0;34m=\u001b[0m \u001b[0mparsed_response\u001b[0m\u001b[0;34m.\u001b[0m\u001b[0mget\u001b[0m\u001b[0;34m(\u001b[0m\u001b[0;34m\"Error\"\u001b[0m\u001b[0;34m,\u001b[0m \u001b[0;34m{\u001b[0m\u001b[0;34m}\u001b[0m\u001b[0;34m)\u001b[0m\u001b[0;34m.\u001b[0m\u001b[0mget\u001b[0m\u001b[0;34m(\u001b[0m\u001b[0;34m\"Code\"\u001b[0m\u001b[0;34m)\u001b[0m\u001b[0;34m\u001b[0m\u001b[0;34m\u001b[0m\u001b[0m\n\u001b[1;32m    675\u001b[0m             \u001b[0merror_class\u001b[0m \u001b[0;34m=\u001b[0m \u001b[0mself\u001b[0m\u001b[0;34m.\u001b[0m\u001b[0mexceptions\u001b[0m\u001b[0;34m.\u001b[0m\u001b[0mfrom_code\u001b[0m\u001b[0;34m(\u001b[0m\u001b[0merror_code\u001b[0m\u001b[0;34m)\u001b[0m\u001b[0;34m\u001b[0m\u001b[0;34m\u001b[0m\u001b[0m\n\u001b[0;32m--> 676\u001b[0;31m             \u001b[0;32mraise\u001b[0m \u001b[0merror_class\u001b[0m\u001b[0;34m(\u001b[0m\u001b[0mparsed_response\u001b[0m\u001b[0;34m,\u001b[0m \u001b[0moperation_name\u001b[0m\u001b[0;34m)\u001b[0m\u001b[0;34m\u001b[0m\u001b[0;34m\u001b[0m\u001b[0m\n\u001b[0m\u001b[1;32m    677\u001b[0m         \u001b[0;32melse\u001b[0m\u001b[0;34m:\u001b[0m\u001b[0;34m\u001b[0m\u001b[0;34m\u001b[0m\u001b[0m\n\u001b[1;32m    678\u001b[0m             \u001b[0;32mreturn\u001b[0m \u001b[0mparsed_response\u001b[0m\u001b[0;34m\u001b[0m\u001b[0;34m\u001b[0m\u001b[0m\n",
      "\u001b[0;31mClientError\u001b[0m: An error occurred (500) when calling the GetObject operation (reached max retries: 4): Internal Server Error"
     ]
    }
   ],
   "source": [
    "resp = s3_client.get_object(Bucket=bucket_name,Key=object_key,Range='bytes=2-4')\n",
    "list(resp[\"Body\"])"
   ]
  },
  {
   "cell_type": "markdown",
   "metadata": {},
   "source": [
    "## Example 3: update the entire object to be lower case "
   ]
  },
  {
   "cell_type": "code",
   "execution_count": 8,
   "metadata": {},
   "outputs": [
    {
     "data": {
      "text/plain": [
       "{'ResponseMetadata': {'RequestId': 'D356BEF0194CB89B',\n",
       "  'HostId': 'MzRISOwyjmnupD356BEF0194CB89B7/JypPGXLh0OVFGcJaaO3KW/hRAqKOpIEEp',\n",
       "  'HTTPStatusCode': 200,\n",
       "  'HTTPHeaders': {'content-type': 'text/html; charset=utf-8',\n",
       "   'content-length': '0',\n",
       "   'etag': '\"e9848c445d1398547c0161189d849ba0\"',\n",
       "   'last-modified': 'Wed, 09 Dec 2020 22:02:01 GMT',\n",
       "   'access-control-allow-origin': '*',\n",
       "   'x-amz-request-id': 'D356BEF0194CB89B',\n",
       "   'x-amz-id-2': 'MzRISOwyjmnupD356BEF0194CB89B7/JypPGXLh0OVFGcJaaO3KW/hRAqKOpIEEp',\n",
       "   'access-control-allow-methods': 'HEAD,GET,PUT,POST,DELETE,OPTIONS,PATCH',\n",
       "   'access-control-allow-headers': 'authorization,content-type,content-md5,cache-control,x-amz-content-sha256,x-amz-date,x-amz-security-token,x-amz-user-agent,x-amz-target,x-amz-acl,x-amz-version-id,x-localstack-target,x-amz-tagging',\n",
       "   'access-control-expose-headers': 'x-amz-version-id',\n",
       "   'connection': 'close',\n",
       "   'date': 'Wed, 09 Dec 2020 22:02:01 GMT',\n",
       "   'server': 'hypercorn-h11'},\n",
       "  'RetryAttempts': 0},\n",
       " 'ETag': '\"e9848c445d1398547c0161189d849ba0\"'}"
      ]
     },
     "execution_count": 8,
     "metadata": {},
     "output_type": "execute_result"
    }
   ],
   "source": [
    "s3_client.put_object(\n",
    "    Body=str_to_binary(\"ges disc\"), \n",
    "    Bucket=bucket_name,\n",
    "    Key=object_key,\n",
    "    ContentType=\"text/plain\"\n",
    ")"
   ]
  },
  {
   "cell_type": "markdown",
   "metadata": {},
   "source": [
    "## Example 4: update part of the object\n",
    "\n",
    "<br />\n",
    "<br />\n",
    "<font size=15> ??????? </font>\n",
    "<br />\n",
    "<br />"
   ]
  },
  {
   "cell_type": "markdown",
   "metadata": {},
   "source": [
    "This is a trick example. It's not possible. You cannot update part of an s3 object. You can only update the whole thing: https://docs.aws.amazon.com/AmazonS3/latest/API/API_PutObject.html."
   ]
  }
 ],
 "metadata": {
  "kernelspec": {
   "display_name": "Python 3",
   "language": "python",
   "name": "python3"
  },
  "language_info": {
   "codemirror_mode": {
    "name": "ipython",
    "version": 3
   },
   "file_extension": ".py",
   "mimetype": "text/x-python",
   "name": "python",
   "nbconvert_exporter": "python",
   "pygments_lexer": "ipython3",
   "version": "3.8.6"
  }
 },
 "nbformat": 4,
 "nbformat_minor": 4
}
