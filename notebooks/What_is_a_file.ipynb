{
 "cells": [
  {
   "cell_type": "markdown",
   "metadata": {},
   "source": [
    "# What is a file?\n",
    "\n",
    "## Definition 1\n",
    "An ordered collection of bytes.\n",
    "\n",
    "<img src=\"images/array.png\">\n",
    "\n",
    "Generally, this collection of bytes has a structure of some sort that allows you to interpret the data in a useful way. E.g. - ASCII, jpg, NetCDF, geoTIFF, etc.\n",
    "\n",
    "## Definition 2\n",
    "An operating system level API. Operating systems provide an API to storage devices.\n",
    "\n",
    "<img src=\"images/disk.png\" width=500>\n"
   ]
  },
  {
   "cell_type": "markdown",
   "metadata": {},
   "source": [
    "# Order of bytes example: ASCII encoding\n",
    "[ASCII](https://en.wikipedia.org/wiki/ASCII) is an old standard that associates the lower 7 bits of an 8-bit byte with a character. This is obviously quite limiting because you can only fit 128 characters in the standard. \n",
    "<br />\n",
    "<img src=\"images/asciifull.gif\">\n",
    "\n",
    "**Note:** ASCII is still pretty ubiquitous and many standards are built on top of ASCII. By default, many file extensions are assumed to use ASCII encoding: *.txt, *.xml, *.json, *.svg, *.py, *.sh, *.ipynb, etc."
   ]
  },
  {
   "cell_type": "markdown",
   "metadata": {},
   "source": [
    "All we need is the os library import for this demo"
   ]
  },
  {
   "cell_type": "code",
   "execution_count": 1,
   "metadata": {},
   "outputs": [],
   "source": [
    "import os"
   ]
  },
  {
   "cell_type": "markdown",
   "metadata": {},
   "source": [
    "# Integer --> ASCII function\n",
    "Create a simple function that print the integer value and ASCII character associated with it.\n",
    "\n",
    "Use the `chr` function to convert each ascii code to a character."
   ]
  },
  {
   "cell_type": "code",
   "execution_count": 2,
   "metadata": {},
   "outputs": [],
   "source": [
    "def show_ascii(byte_):\n",
    "    return \"{:03d} => {}\".format(byte_,chr(byte_))"
   ]
  },
  {
   "cell_type": "markdown",
   "metadata": {},
   "source": [
    "Print some examples ..."
   ]
  },
  {
   "cell_type": "code",
   "execution_count": 3,
   "metadata": {},
   "outputs": [
    {
     "name": "stdout",
     "output_type": "stream",
     "text": [
      "048 => 0\n",
      "064 => @\n",
      "122 => z\n"
     ]
    }
   ],
   "source": [
    "print(show_ascii(48))\n",
    "print(show_ascii(64))\n",
    "print(show_ascii(122))"
   ]
  },
  {
   "cell_type": "markdown",
   "metadata": {},
   "source": [
    "# An ASCII-encoded file\n",
    "\n",
    "## Create a simple file with the characters \"GES DISC\" inside\n",
    "\"GES DISC.txt\" is ascii-encoded. The file extension '.txt' is a big hint that this is ascii. \n",
    "\n",
    "\n",
    "<img src=\"images/GES_DISC_array.svg\">\n",
    "\n",
    "Other ascii-encoded files: '.csv', '.log', '.py', '.sh', etc. Basically, anything you can open with vi/emacs."
   ]
  },
  {
   "cell_type": "code",
   "execution_count": 4,
   "metadata": {},
   "outputs": [],
   "source": [
    "ges_disc_file_path = os.path.join(\"data\",\"GES_DISC.txt\")\n",
    "\n",
    "with open(ges_disc_file_path,'w') as f:\n",
    "    f.write(\"GES DISC\")"
   ]
  },
  {
   "cell_type": "markdown",
   "metadata": {},
   "source": [
    "\n",
    "## Example 1: reading the file as a string"
   ]
  },
  {
   "cell_type": "code",
   "execution_count": 5,
   "metadata": {},
   "outputs": [
    {
     "name": "stdout",
     "output_type": "stream",
     "text": [
      "Type: <class 'str'>\n",
      "Contents: 'GES DISC'\n"
     ]
    }
   ],
   "source": [
    "with open(ges_disc_file_path,'r') as f:\n",
    "    str_content = f.read()\n",
    "    \n",
    "print(\"Type: {}\".format(type(str_content)))\n",
    "print(f\"Contents: '{str_content}'\")"
   ]
  },
  {
   "cell_type": "markdown",
   "metadata": {},
   "source": [
    "## Example 2: reading the file in binary\n",
    "\n",
    "First, create a function that will print the contents of the file nicely:"
   ]
  },
  {
   "cell_type": "code",
   "execution_count": 6,
   "metadata": {},
   "outputs": [],
   "source": [
    "def print_file_info(file_path):\n",
    "    \"\"\"Print out each byte's value and ASCII character.\"\"\"\n",
    "    print(file_path)\n",
    "    print(\"--------\\n\")\n",
    "    print(\"File size: {} bytes\\n\".format(os.path.getsize(file_path)))\n",
    "\n",
    "    with open(file_path,'rb') as f:\n",
    "        content = f.read()\n",
    "\n",
    "    print(\"Type: {}\\n\".format(type(content)))\n",
    "        \n",
    "\n",
    "    for i in range(len(content)):\n",
    "        print(\"{}: {}\".format(i,show_ascii(content[i])))"
   ]
  },
  {
   "cell_type": "markdown",
   "metadata": {},
   "source": [
    "Show the contents of 'GES_DISC.txt' in binary:"
   ]
  },
  {
   "cell_type": "code",
   "execution_count": 7,
   "metadata": {
    "scrolled": true
   },
   "outputs": [
    {
     "name": "stdout",
     "output_type": "stream",
     "text": [
      "data/GES_DISC.txt\n",
      "--------\n",
      "\n",
      "File size: 8 bytes\n",
      "\n",
      "Type: <class 'bytes'>\n",
      "\n",
      "0: 071 => G\n",
      "1: 069 => E\n",
      "2: 083 => S\n",
      "3: 032 =>  \n",
      "4: 068 => D\n",
      "5: 073 => I\n",
      "6: 083 => S\n",
      "7: 067 => C\n"
     ]
    }
   ],
   "source": [
    "print_file_info(ges_disc_file_path)"
   ]
  },
  {
   "cell_type": "markdown",
   "metadata": {},
   "source": [
    "## Example 3: writing a file as binary\n",
    "\n",
    "Let's make the letters lower case rather than upper case.\n",
    "\n",
    "Use the `ord` function to convert characters to ascii codes."
   ]
  },
  {
   "cell_type": "code",
   "execution_count": 8,
   "metadata": {},
   "outputs": [],
   "source": [
    "def str_to_binary(str_):\n",
    "    \"\"\"Take a string and covert each character into the binary representation\"\"\"\n",
    "    bin_arr = bytearray()\n",
    "    bin_arr.extend(map(ord,str_))\n",
    "    return bin_arr"
   ]
  },
  {
   "cell_type": "code",
   "execution_count": 9,
   "metadata": {},
   "outputs": [
    {
     "name": "stdout",
     "output_type": "stream",
     "text": [
      "data/GES_DISC.txt\n",
      "--------\n",
      "\n",
      "File size: 8 bytes\n",
      "\n",
      "Type: <class 'bytes'>\n",
      "\n",
      "0: 103 => g\n",
      "1: 101 => e\n",
      "2: 115 => s\n",
      "3: 032 =>  \n",
      "4: 100 => d\n",
      "5: 105 => i\n",
      "6: 115 => s\n",
      "7: 099 => c\n"
     ]
    }
   ],
   "source": [
    "# Write out binary!\n",
    "with open(ges_disc_file_path,'bw') as f:\n",
    "    f.write(str_to_binary(\"ges disc\"))\n",
    "\n",
    "# Now print out the new file contents!\n",
    "print_file_info(ges_disc_file_path)"
   ]
  },
  {
   "cell_type": "markdown",
   "metadata": {},
   "source": [
    "## Example 4: more sophisticated binary file access\n",
    "\n",
    "In the previous examples, we read in the entire file at once. This makes sense for a small file like \"GES DISC.txt\". But what if the file is too large to fit in memory? Or what if we simply don't need the whole thing? Or what if we want to change a small amount of data in the file without writing out the whole thing?\n",
    "\n",
    "Enter arbitrary position-based access. This is enabled thanks to the operating system API (definition 2 of a file!), which you access through python's `open` function. The `open` function returns a file pointer that will allow us to move around to arbitrary positions in the file.\n",
    "\n",
    "Let's see if we can change the string from 'ges disc' to 'ges-disc' by just changing the space character to a dash."
   ]
  },
  {
   "cell_type": "code",
   "execution_count": 10,
   "metadata": {},
   "outputs": [
    {
     "name": "stdout",
     "output_type": "stream",
     "text": [
      "Start location: 0\n",
      "\n",
      "Reading one byte ... Read 103 => g, now at position 1.\n",
      "Reading one byte ... Read 101 => e, now at position 2.\n",
      "Reading one byte ... Read 115 => s, now at position 3.\n",
      "Reading one byte ... Read 032 =>  , now at position 4.\n",
      "  Space is at position 3!!\n",
      "  Moved back one byte to position 3\n",
      "  Writing dash ...   Finished writing one byte, at position 4.\n",
      "Reading one byte ... Read 100 => d, now at position 5.\n",
      "Reading one byte ... Read 105 => i, now at position 6.\n",
      "Reading one byte ... Read 115 => s, now at position 7.\n",
      "Reading one byte ... Read 099 => c, now at position 8.\n",
      "\n",
      "\n",
      "\n",
      "data/GES_DISC.txt\n",
      "--------\n",
      "\n",
      "File size: 8 bytes\n",
      "\n",
      "Type: <class 'bytes'>\n",
      "\n",
      "0: 103 => g\n",
      "1: 101 => e\n",
      "2: 115 => s\n",
      "3: 045 => -\n",
      "4: 100 => d\n",
      "5: 105 => i\n",
      "6: 115 => s\n",
      "7: 099 => c\n"
     ]
    }
   ],
   "source": [
    "import sys\n",
    "with open(ges_disc_file_path,'br+') as f:\n",
    "    # when we open the file, we're at the first byte\n",
    "    print('Start location: {}\\n'.format(f.tell()))\n",
    "    \n",
    "    while(f.tell() < 8):  \n",
    "        pos = f.tell()\n",
    "        \n",
    "        sys.stdout.write(\"Reading one byte ... \")\n",
    "        curr_char = f.read(1)[0]\n",
    "        \n",
    "        print(\"Read {}, now at position {}.\".format(show_ascii(curr_char),f.tell()))\n",
    "        \n",
    "        if curr_char == ord(' '):\n",
    "            print(f\"  Space is at position {pos}!!\")\n",
    "            # move back a byte to the position we were in before reading\n",
    "            f.seek(pos,0)\n",
    "            print(\"  Moved back one byte to position {}\".format(f.tell()))\n",
    "            sys.stdout.write(\"  Writing dash ... \")\n",
    "            f.write(str_to_binary(\"-\"))\n",
    "            print(\"  Finished writing one byte, at position {}.\".format(f.tell()))\n",
    "\n",
    "print(\"\\n\\n\")\n",
    "print_file_info(ges_disc_file_path) "
   ]
  }
 ],
 "metadata": {
  "kernelspec": {
   "display_name": "Python 3",
   "language": "python",
   "name": "python3"
  },
  "language_info": {
   "codemirror_mode": {
    "name": "ipython",
    "version": 3
   },
   "file_extension": ".py",
   "mimetype": "text/x-python",
   "name": "python",
   "nbconvert_exporter": "python",
   "pygments_lexer": "ipython3",
   "version": "3.8.6"
  }
 },
 "nbformat": 4,
 "nbformat_minor": 4
}
